{
 "cells": [
  {
   "cell_type": "code",
   "execution_count": 13,
   "id": "ENTER_YOUR_API_KEY_HERE",
   "metadata": {},
   "outputs": [
    {
     "name": "stdout",
     "output_type": "stream",
     "text": [
      "Requirement already satisfied: requests in c:\\users\\shiun\\anaconda3\\lib\\site-packages (2.32.3)\n",
      "Requirement already satisfied: charset-normalizer<4,>=2 in c:\\users\\shiun\\anaconda3\\lib\\site-packages (from requests) (3.3.2)\n",
      "Requirement already satisfied: idna<4,>=2.5 in c:\\users\\shiun\\anaconda3\\lib\\site-packages (from requests) (3.7)\n",
      "Requirement already satisfied: urllib3<3,>=1.21.1 in c:\\users\\shiun\\anaconda3\\lib\\site-packages (from requests) (2.2.3)\n",
      "Requirement already satisfied: certifi>=2017.4.17 in c:\\users\\shiun\\anaconda3\\lib\\site-packages (from requests) (2025.4.26)\n"
     ]
    },
    {
     "name": "stderr",
     "output_type": "stream",
     "text": [
      "ERROR: Could not find a version that satisfies the requirement tkinter (from versions: none)\n",
      "ERROR: No matching distribution found for tkinter\n"
     ]
    }
   ],
   "source": [
    "!pip install requests\n",
    "!pip install tkinter"
   ]
  },
  {
   "cell_type": "code",
   "execution_count": 16,
   "id": "cc5fa9bc-af1b-4863-9e28-b81adf72ecd8",
   "metadata": {},
   "outputs": [],
   "source": [
    "import tkinter as tk\n",
    "from tkinter import messagebox\n",
    "import requests\n",
    "\n",
    "API_KEY = \"b35963c9d0799fbf31457eece2c40bf6\"\n",
    "\n",
    "def get_weather():\n",
    "    lat = lat_entry.get()\n",
    "    lon = lon_entry.get()\n",
    "\n",
    "    if not lat or not lon:\n",
    "        messagebox.showwarning(\"Input Error\", \"Please enter both latitude and longitude.\")\n",
    "        return\n",
    "\n",
    "    try:\n",
    "        float(lat)\n",
    "        float(lon)\n",
    "    except ValueError:\n",
    "        messagebox.showerror(\"Input Error\", \"Latitude and Longitude must be numbers.\")\n",
    "        return\n",
    "\n",
    "    url = f\"https://api.openweathermap.org/data/2.5/weather?lat={lat}&lon={lon}&appid={API_KEY}&units=metric\"\n",
    "    response = requests.get(url)\n",
    "    data = response.json()\n",
    "\n",
    "    if response.status_code == 200:\n",
    "        weather = data['weather'][0]['description'].title()\n",
    "        temperature = data['main']['temp']\n",
    "        humidity = data['main']['humidity']\n",
    "        wind_speed = data['wind']['speed']\n",
    "        location = data['name']\n",
    "\n",
    "        result = (\n",
    "            f\"Location: {location}\\n\"\n",
    "            f\"Weather: {weather}\\n\"\n",
    "            f\"Temperature: {temperature}°C\\n\"\n",
    "            f\"Humidity: {humidity}%\\n\"\n",
    "            f\"Wind Speed: {wind_speed} m/s\"\n",
    "        )\n",
    "        result_label.config(text=result)\n",
    "    else:\n",
    "        messagebox.showerror(\"Error\", f\"Could not get weather data. ({data.get('message')})\")\n",
    "\n",
    "# GUI setup\n",
    "root = tk.Tk()\n",
    "root.title(\"Weather App (By Coordinates)\")\n",
    "root.geometry(\"320x350\")\n",
    "root.resizable(False, False)\n",
    "\n",
    "tk.Label(root, text=\"Enter Latitude:\", font=(\"Arial\", 12)).pack(pady=5)\n",
    "lat_entry = tk.Entry(root, font=(\"Arial\", 12))\n",
    "lat_entry.pack(pady=5)\n",
    "\n",
    "tk.Label(root, text=\"Enter Longitude:\", font=(\"Arial\", 12)).pack(pady=5)\n",
    "lon_entry = tk.Entry(root, font=(\"Arial\", 12))\n",
    "lon_entry.pack(pady=5)\n",
    "\n",
    "tk.Button(root, text=\"Get Weather\", command=get_weather, font=(\"Arial\", 12)).pack(pady=15)\n",
    "\n",
    "result_label = tk.Label(root, text=\"\", font=(\"Arial\", 11), justify=\"left\")\n",
    "result_label.pack(pady=10)\n",
    "\n",
    "root.mainloop()"
   ]
  },
  {
   "cell_type": "code",
   "execution_count": null,
   "id": "12a0dce3-c19d-4d32-85ef-791bd5fb9a96",
   "metadata": {},
   "outputs": [],
   "source": []
  }
 ],
 "metadata": {
  "kernelspec": {
   "display_name": "Python 3 (ipykernel)",
   "language": "python",
   "name": "python3"
  },
  "language_info": {
   "codemirror_mode": {
    "name": "ipython",
    "version": 3
   },
   "file_extension": ".py",
   "mimetype": "text/x-python",
   "name": "python",
   "nbconvert_exporter": "python",
   "pygments_lexer": "ipython3",
   "version": "3.12.7"
  }
 },
 "nbformat": 4,
 "nbformat_minor": 5
}
